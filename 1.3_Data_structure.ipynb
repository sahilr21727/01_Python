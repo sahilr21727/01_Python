{
 "cells": [
  {
   "cell_type": "markdown",
   "id": "266cf58a",
   "metadata": {},
   "source": [
    "## Data structure in Python\n",
    "- List\n",
    "- Tuple\n",
    "- Set\n",
    "- Dictionary"
   ]
  },
  {
   "cell_type": "code",
   "execution_count": 1,
   "id": "e49675f6",
   "metadata": {},
   "outputs": [
    {
     "name": "stdout",
     "output_type": "stream",
     "text": [
      "['apple', 'banana', 'cherry']\n",
      "['apple', 'banana', 'cherry', 'orange']\n",
      "(10, 20)\n",
      "{1, 2, 3}\n",
      "{1, 2, 3, 4}\n",
      "{'name': 'Alice', 'age': 30}\n",
      "{'name': 'Alice', 'age': 31}\n"
     ]
    }
   ],
   "source": [
    "# List\n",
    "fruits = ['apple', 'banana', 'cherry']\n",
    "print(fruits)\n",
    "fruits.append('orange')\n",
    "print(fruits)\n",
    "\n",
    "# Tuple\n",
    "coordinates = (10, 20)\n",
    "print(coordinates)\n",
    "\n",
    "# Set\n",
    "unique_numbers = {1, 2, 3, 3}\n",
    "print(unique_numbers)\n",
    "unique_numbers.add(4)\n",
    "print(unique_numbers)\n",
    "\n",
    "# Dictionary\n",
    "person = {'name': 'Alice', 'age': 30}\n",
    "print(person)\n",
    "person['age'] = 31\n",
    "print(person)\n"
   ]
  }
 ],
 "metadata": {
  "kernelspec": {
   "display_name": "Python 3",
   "language": "python",
   "name": "python3"
  },
  "language_info": {
   "codemirror_mode": {
    "name": "ipython",
    "version": 3
   },
   "file_extension": ".py",
   "mimetype": "text/x-python",
   "name": "python",
   "nbconvert_exporter": "python",
   "pygments_lexer": "ipython3",
   "version": "3.13.5"
  }
 },
 "nbformat": 4,
 "nbformat_minor": 5
}
