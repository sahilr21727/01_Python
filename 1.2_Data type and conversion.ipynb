{
 "cells": [
  {
   "cell_type": "markdown",
   "id": "d163de30",
   "metadata": {},
   "source": [
    "## Data type and conversion in Python"
   ]
  },
  {
   "cell_type": "code",
   "execution_count": 1,
   "id": "15b91577",
   "metadata": {},
   "outputs": [
    {
     "name": "stdout",
     "output_type": "stream",
     "text": [
      "<class 'int'>\n",
      "<class 'float'>\n",
      "<class 'str'>\n",
      "<class 'bool'>\n",
      "<class 'list'>\n",
      "<class 'tuple'>\n",
      "<class 'dict'>\n",
      "10.0 <class 'float'>\n",
      "3 <class 'int'>\n",
      "100 <class 'int'>\n",
      "10 <class 'str'>\n",
      "3.14 <class 'str'>\n",
      "True <class 'bool'>\n",
      "True <class 'bool'>\n"
     ]
    }
   ],
   "source": [
    "# Data Types\n",
    "\n",
    "# Integer\n",
    "num = 10\n",
    "print(type(num))  # <class 'int'>\n",
    "\n",
    "# Float\n",
    "pi = 3.14\n",
    "print(type(pi))  # <class 'float'>\n",
    "\n",
    "# String\n",
    "name = \"Python\"\n",
    "print(type(name))  # <class 'str'>\n",
    "\n",
    "# Boolean\n",
    "is_active = True\n",
    "print(type(is_active))  # <class 'bool'>\n",
    "\n",
    "# List\n",
    "fruits = [\"apple\", \"banana\", \"cherry\"]\n",
    "print(type(fruits))  # <class 'list'>\n",
    "\n",
    "# Tuple\n",
    "coordinates = (10, 20)\n",
    "print(type(coordinates))  # <class 'tuple'>\n",
    "\n",
    "# Dictionary\n",
    "person = {\"name\": \"Alice\", \"age\": 25}\n",
    "print(type(person))  # <class 'dict'>\n",
    "\n",
    "\n",
    "# Type Conversion (Casting)\n",
    "\n",
    "# Convert from int to float\n",
    "num_float = float(num)\n",
    "print(num_float, type(num_float))  # Converted num to float\n",
    "\n",
    "# Convert from float to int\n",
    "pi_int = int(pi)\n",
    "print(pi_int, type(pi_int))  # Converted pi to int\n",
    "\n",
    "# Convert from string to int (if valid string number)\n",
    "str_num = \"100\"\n",
    "str_to_int = int(str_num)\n",
    "print(str_to_int, type(str_to_int))  # Converted str_num to int\n",
    "\n",
    "# Convert from int to string\n",
    "num_str = str(num)\n",
    "print(num_str, type(num_str))  # Converted num to string\n",
    "\n",
    "# Convert from float to string\n",
    "pi_str = str(pi)\n",
    "print(pi_str, type(pi_str))  # Converted pi to string\n",
    "\n",
    "# Convert string to boolean\n",
    "str_true = \"True\"\n",
    "str_false = \"False\"\n",
    "bool_true = bool(str_true)\n",
    "bool_false = bool(str_false)\n",
    "print(bool_true, type(bool_true))  # Converted str_true to boolean\n",
    "print(bool_false, type(bool_false))  # Converted str_false to boolean\n"
   ]
  }
 ],
 "metadata": {
  "kernelspec": {
   "display_name": "Python 3",
   "language": "python",
   "name": "python3"
  },
  "language_info": {
   "codemirror_mode": {
    "name": "ipython",
    "version": 3
   },
   "file_extension": ".py",
   "mimetype": "text/x-python",
   "name": "python",
   "nbconvert_exporter": "python",
   "pygments_lexer": "ipython3",
   "version": "3.13.5"
  }
 },
 "nbformat": 4,
 "nbformat_minor": 5
}
