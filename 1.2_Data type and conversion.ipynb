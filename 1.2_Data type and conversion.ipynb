{
 "cells": [
  {
   "cell_type": "markdown",
   "id": "d163de30",
   "metadata": {},
   "source": [
    "## Data type and conversion in Python"
   ]
  },
  {
   "cell_type": "markdown",
   "id": "c9fb9e90",
   "metadata": {},
   "source": [
    "# Data Types"
   ]
  },
  {
   "cell_type": "code",
   "execution_count": 5,
   "id": "15b91577",
   "metadata": {},
   "outputs": [
    {
     "name": "stdout",
     "output_type": "stream",
     "text": [
      "<class 'int'>\n",
      "<class 'float'>\n",
      "<class 'str'>\n",
      "<class 'bool'>\n"
     ]
    }
   ],
   "source": [
    "# Integer\n",
    "num = 10\n",
    "print(type(num))  \n",
    "\n",
    "# Float\n",
    "pi = 3.14\n",
    "print(type(pi)) \n",
    "\n",
    "# String\n",
    "name = \"Python\"\n",
    "print(type(name)) \n",
    "\n",
    "# Boolean\n",
    "is_active = True\n",
    "print(type(is_active))  \n"
   ]
  },
  {
   "cell_type": "markdown",
   "id": "477ee106",
   "metadata": {},
   "source": [
    "# Type Conversion (Casting)"
   ]
  },
  {
   "cell_type": "code",
   "execution_count": 6,
   "id": "413869fa",
   "metadata": {},
   "outputs": [
    {
     "name": "stdout",
     "output_type": "stream",
     "text": [
      "10.0 <class 'float'>\n",
      "3 <class 'int'>\n",
      "100 <class 'int'>\n",
      "10 <class 'str'>\n",
      "3.14 <class 'str'>\n",
      "True <class 'bool'>\n",
      "True <class 'bool'>\n"
     ]
    }
   ],
   "source": [
    "# Convert from int to float\n",
    "num = 10\n",
    "num_float = float(num)\n",
    "print(num_float, type(num_float))\n",
    "\n",
    "# Convert from float to int\n",
    "pi = 3.14\n",
    "pi_int = int(pi)\n",
    "print(pi_int, type(pi_int))\n",
    "\n",
    "# Convert from string to int\n",
    "str_num = \"100\"\n",
    "str_to_int = int(str_num)\n",
    "print(str_to_int, type(str_to_int))\n",
    "\n",
    "# Convert from int to string\n",
    "num_str = str(num)\n",
    "print(num_str, type(num_str))\n",
    "\n",
    "# Convert from float to string\n",
    "pi_str = str(pi)\n",
    "print(pi_str, type(pi_str))\n",
    "\n",
    "# Convert string to boolean\n",
    "str_true = \"True\"\n",
    "str_false = \"False\"\n",
    "bool_true = bool(str_true)\n",
    "bool_false = bool(str_false)\n",
    "print(bool_true, type(bool_true))\n",
    "print(bool_false, type(bool_false))\n"
   ]
  }
 ],
 "metadata": {
  "kernelspec": {
   "display_name": "Python 3",
   "language": "python",
   "name": "python3"
  },
  "language_info": {
   "codemirror_mode": {
    "name": "ipython",
    "version": 3
   },
   "file_extension": ".py",
   "mimetype": "text/x-python",
   "name": "python",
   "nbconvert_exporter": "python",
   "pygments_lexer": "ipython3",
   "version": "3.13.5"
  }
 },
 "nbformat": 4,
 "nbformat_minor": 5
}
