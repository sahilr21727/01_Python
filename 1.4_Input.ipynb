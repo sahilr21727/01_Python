{
 "cells": [
  {
   "cell_type": "markdown",
   "id": "0dabb386",
   "metadata": {},
   "source": [
    "## Input function"
   ]
  },
  {
   "cell_type": "markdown",
   "id": "cf51d54e",
   "metadata": {},
   "source": [
    "## 🧾 input() Function\n",
    "\n",
    "- Used to get input from the user.\n",
    "- Always returns data as a string.\n",
    "- Often combined with type conversion functions like int(), float(), etc.\n"
   ]
  },
  {
   "cell_type": "code",
   "execution_count": 2,
   "id": "7ae710a5",
   "metadata": {},
   "outputs": [
    {
     "name": "stdout",
     "output_type": "stream",
     "text": [
      "10\n"
     ]
    }
   ],
   "source": [
    "## Simple Calculator with the help of nested if-else\n",
    "num_1 = int(input(\"Enter a number:\"))\n",
    "num_2 = int(input(\"Enter the second number:\"))\n",
    "operation = input(\"Enter an operation(+,-,*,/,//,%):\")\n",
    "if operation=='+':\n",
    "    sum = num_1 + num_2\n",
    "    print(sum)\n",
    "elif operation=='-':\n",
    "    diff = num_1 - num_2\n",
    "    print(diff)\n",
    "elif operation=='*':\n",
    "    multi = num_1 * num_2\n",
    "    print(multi)\n",
    "elif operation=='/':\n",
    "    if num_2!=0:\n",
    "        div = num_1 / num_2\n",
    "        print(div)\n",
    "    else:\n",
    "        print('Division by zero is not possible, change the number.')\n",
    "elif operation=='//':\n",
    "    floor_div = num_1//num_2\n",
    "    print(floor_div)\n",
    "elif operation=='%':\n",
    "    modulo = num_1%num_2\n",
    "    print(modulo)\n",
    "else:\n",
    "    print(\"invalid operation\")"
   ]
  }
 ],
 "metadata": {
  "kernelspec": {
   "display_name": "base",
   "language": "python",
   "name": "python3"
  },
  "language_info": {
   "codemirror_mode": {
    "name": "ipython",
    "version": 3
   },
   "file_extension": ".py",
   "mimetype": "text/x-python",
   "name": "python",
   "nbconvert_exporter": "python",
   "pygments_lexer": "ipython3",
   "version": "3.13.5"
  }
 },
 "nbformat": 4,
 "nbformat_minor": 5
}
