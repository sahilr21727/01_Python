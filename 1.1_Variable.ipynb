{
 "cells": [
  {
   "cell_type": "markdown",
   "id": "628ad769",
   "metadata": {},
   "source": [
    "## ✅ Correct Variable Names\n",
    "\n",
    "- Starts with a letter and may include underscores\n",
    "- Can start with an underscore\n",
    "- Can include capital letters (Python is case-sensitive)\n",
    "- Can include numbers after the first character\n",
    "\n",
    "\n",
    "\n",
    "## ❌ Incorrect Variable Names\n",
    "\n",
    "- Cannot start with a number\n",
    "- Cannot contain spaces\n",
    "- Cannot use Python reserved keywords\n"
   ]
  },
  {
   "cell_type": "markdown",
   "id": "739fec08",
   "metadata": {},
   "source": [
    "## Variable in Python"
   ]
  },
  {
   "cell_type": "code",
   "execution_count": null,
   "id": "57443a7a",
   "metadata": {},
   "outputs": [
    {
     "name": "stdout",
     "output_type": "stream",
     "text": [
      "10\n",
      "20\n",
      "30\n",
      "40\n"
     ]
    }
   ],
   "source": [
    "# ✅ Correct Variable Names\n",
    "my_var = 10\n",
    "_hidden = 20\n",
    "UserName = \"Alice\"\n",
    "var1 = 5\n",
    "\n",
    "print(my_var)\n",
    "print(_hidden)\n",
    "print(UserName)\n",
    "print(var1)"
   ]
  },
  {
   "cell_type": "code",
   "execution_count": null,
   "id": "815ee387",
   "metadata": {},
   "outputs": [],
   "source": [
    "# Incorrect variable names\n",
    "\n",
    "1myvar = 50    # ❌ Starts with a number\n",
    "my var = 60    # ❌ Contains a space\n",
    "for = 70       # ❌ Uses a reserved keyword\n",
    "\n"
   ]
  }
 ],
 "metadata": {
  "kernelspec": {
   "display_name": "Python 3",
   "language": "python",
   "name": "python3"
  },
  "language_info": {
   "codemirror_mode": {
    "name": "ipython",
    "version": 3
   },
   "file_extension": ".py",
   "mimetype": "text/x-python",
   "name": "python",
   "nbconvert_exporter": "python",
   "pygments_lexer": "ipython3",
   "version": "3.13.5"
  }
 },
 "nbformat": 4,
 "nbformat_minor": 5
}
