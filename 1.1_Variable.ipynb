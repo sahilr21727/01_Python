{
 "cells": [
  {
   "cell_type": "markdown",
   "id": "628ad769",
   "metadata": {},
   "source": [
    "## Correct Variable Names\n",
    "\n",
    "- Variable name that starts with a letter and contains an underscore:  \n",
    "  `my_variable = 10`\n",
    "\n",
    "- Variable name that starts with an underscore:  \n",
    "  `_hidden_value = 20`\n",
    "\n",
    "- Variable name with a capital letter (Python is case-sensitive):  \n",
    "  `UserName = \"Alice\"`\n",
    "\n",
    "- Variable name with a number (allowed after the first character):  \n",
    "  `var1 = 30`\n",
    "\n",
    "---\n",
    "\n",
    "## Incorrect Variable Names (These will result in errors)\n",
    "\n",
    "- `1myvar = 50`  \n",
    "  ❌ Error: Cannot start with a number\n",
    "\n",
    "- `my var = 60`  \n",
    "  ❌ Error: Space is not allowed\n",
    "\n",
    "- `for = 70`  \n",
    "  ❌ Error: `'for'` is a Python keyword and cannot be used as a variable\n"
   ]
  },
  {
   "cell_type": "markdown",
   "id": "739fec08",
   "metadata": {},
   "source": [
    "## Variable in Python"
   ]
  },
  {
   "cell_type": "code",
   "execution_count": null,
   "id": "57443a7a",
   "metadata": {},
   "outputs": [
    {
     "name": "stdout",
     "output_type": "stream",
     "text": [
      "10\n",
      "20\n",
      "30\n",
      "40\n"
     ]
    }
   ],
   "source": [
    "# ✅ Correct Variable Names\n",
    "my_var = 10\n",
    "_hidden = 20\n",
    "UserName = \"Alice\"\n",
    "var1 = 5\n",
    "\n",
    "print(my_var)\n",
    "print(_hidden)\n",
    "print(UserName)\n",
    "print(var1)\n",
    "\n",
    "\n"
   ]
  },
  {
   "cell_type": "code",
   "execution_count": null,
   "id": "815ee387",
   "metadata": {},
   "outputs": [],
   "source": [
    "# Incorrect variable names\n",
    "\n",
    "1myvar = 50    # ❌ Starts with a number\n",
    "my var = 60    # ❌ Contains a space\n",
    "for = 70       # ❌ Uses a reserved keyword\n",
    "\n"
   ]
  }
 ],
 "metadata": {
  "kernelspec": {
   "display_name": "Python 3",
   "language": "python",
   "name": "python3"
  },
  "language_info": {
   "codemirror_mode": {
    "name": "ipython",
    "version": 3
   },
   "file_extension": ".py",
   "mimetype": "text/x-python",
   "name": "python",
   "nbconvert_exporter": "python",
   "pygments_lexer": "ipython3",
   "version": "3.13.5"
  }
 },
 "nbformat": 4,
 "nbformat_minor": 5
}
