{
 "cells": [
  {
   "cell_type": "markdown",
   "id": "739fec08",
   "metadata": {},
   "source": [
    "## Variable in Python"
   ]
  },
  {
   "cell_type": "code",
   "execution_count": 3,
   "id": "57443a7a",
   "metadata": {},
   "outputs": [
    {
     "name": "stdout",
     "output_type": "stream",
     "text": [
      "10\n",
      "20\n",
      "30\n",
      "40\n"
     ]
    }
   ],
   "source": [
    "# Correct variable names\n",
    "my_var = 10      # Variable name starts with a letter and contains an underscore\n",
    "_var = 20        # Variable name starts with an underscore\n",
    "myVar = 30       # Variable name with a capital letter, Python is case-sensitive\n",
    "number1 = 40     # Variable name with a number (allowed after the first character)\n",
    "\n",
    "# Incorrect variable names (these will result in errors)\n",
    "# 1myvar = 50     # Error: Cannot start with a number\n",
    "# my var = 60     # Error: Space is not allowed\n",
    "# for = 70        # Error: 'for' is a Python keyword and cannot be used as a variable\n",
    "\n",
    "# Output the values of the correct variables\n",
    "print( my_var)\n",
    "print(_var)\n",
    "print( myVar)\n",
    "print(number1)\n"
   ]
  }
 ],
 "metadata": {
  "kernelspec": {
   "display_name": "Python 3",
   "language": "python",
   "name": "python3"
  },
  "language_info": {
   "codemirror_mode": {
    "name": "ipython",
    "version": 3
   },
   "file_extension": ".py",
   "mimetype": "text/x-python",
   "name": "python",
   "nbconvert_exporter": "python",
   "pygments_lexer": "ipython3",
   "version": "3.13.5"
  }
 },
 "nbformat": 4,
 "nbformat_minor": 5
}
