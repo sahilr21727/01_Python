{
 "cells": [
  {
   "cell_type": "markdown",
   "id": "6649cd6c",
   "metadata": {},
   "source": [
    "## Function in python"
   ]
  },
  {
   "cell_type": "code",
   "execution_count": 1,
   "id": "eb2ab7f4",
   "metadata": {},
   "outputs": [
    {
     "name": "stdout",
     "output_type": "stream",
     "text": [
      "Hello, World!\n",
      "Hello, John!\n",
      "Hello, Alice!\n",
      "6\n",
      "50\n",
      "name: John\n",
      "age: 25\n",
      "25\n",
      "[1, 4, 9, 16]\n",
      "[2, 4]\n"
     ]
    }
   ],
   "source": [
    "# 1. Basic Function Definition and Call\n",
    "def greet():\n",
    "    print(\"Hello, World!\")\n",
    "\n",
    "greet()  # Calling the function\n",
    "\n",
    "# 2. Function with Default Arguments\n",
    "def greet_with_default(name=\"John\"):\n",
    "    print(f\"Hello, {name}!\")\n",
    "\n",
    "greet_with_default()  \n",
    "greet_with_default(\"Alice\")  \n",
    "\n",
    "# 3. Function with Variable-Length Arguments (*args and **kwargs)\n",
    "\n",
    "# Using *args (Non-keyword arguments)\n",
    "def add_numbers(*args):\n",
    "    return sum(args)\n",
    "\n",
    "print(add_numbers(1, 2, 3))  \n",
    "print(add_numbers(5, 10, 15, 20))  \n",
    "\n",
    "# Using **kwargs (Keyword arguments)\n",
    "def display_info(**kwargs):\n",
    "    for key, value in kwargs.items():\n",
    "        print(f\"{key}: {value}\")\n",
    "\n",
    "display_info(name=\"John\", age=25)\n",
    "\n",
    "# 4. Lambda Function\n",
    "square = lambda x: x ** 2\n",
    "print(square(5))  \n",
    "\n",
    "# 5. Using map() Function\n",
    "numbers = [1, 2, 3, 4]\n",
    "squares = map(lambda x: x**2, numbers)\n",
    "\n",
    "# Convert map object to list\n",
    "print(list(squares))  \n",
    "\n",
    "# 6. Using filter() Function\n",
    "even_numbers = filter(lambda x: x % 2 == 0, numbers)\n",
    "\n",
    "# Convert filter object to list\n",
    "print(list(even_numbers))  \n",
    "\n",
    "\n",
    "\n"
   ]
  }
 ],
 "metadata": {
  "kernelspec": {
   "display_name": "Python 3",
   "language": "python",
   "name": "python3"
  },
  "language_info": {
   "codemirror_mode": {
    "name": "ipython",
    "version": 3
   },
   "file_extension": ".py",
   "mimetype": "text/x-python",
   "name": "python",
   "nbconvert_exporter": "python",
   "pygments_lexer": "ipython3",
   "version": "3.13.5"
  }
 },
 "nbformat": 4,
 "nbformat_minor": 5
}
