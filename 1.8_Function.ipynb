{
 "cells": [
  {
   "cell_type": "markdown",
   "id": "6649cd6c",
   "metadata": {},
   "source": [
    "## Function in python"
   ]
  },
  {
   "cell_type": "code",
   "execution_count": null,
   "id": "eb2ab7f4",
   "metadata": {},
   "outputs": [
    {
     "data": {
      "text/plain": [
       "45"
      ]
     },
     "execution_count": 6,
     "metadata": {},
     "output_type": "execute_result"
    }
   ],
   "source": [
    "## Function with parameters\n",
    "def mult(a, b):                 # def: Defines a function, mult: Function name, (): Parameters (inputs).\n",
    "    return a * b                # return to send a resul\n",
    "\n",
    "mult(5,9)\n"
   ]
  },
  {
   "cell_type": "code",
   "execution_count": null,
   "id": "b605ce61",
   "metadata": {},
   "outputs": [
    {
     "name": "stdout",
     "output_type": "stream",
     "text": [
      "Hello, world!\n"
     ]
    }
   ],
   "source": [
    "## Function without parameters\n",
    "def greet():\n",
    "    print(\"Hello, world!\")\n",
    "\n",
    "greet() \n"
   ]
  }
 ],
 "metadata": {
  "kernelspec": {
   "display_name": "Python 3",
   "language": "python",
   "name": "python3"
  },
  "language_info": {
   "codemirror_mode": {
    "name": "ipython",
    "version": 3
   },
   "file_extension": ".py",
   "mimetype": "text/x-python",
   "name": "python",
   "nbconvert_exporter": "python",
   "pygments_lexer": "ipython3",
   "version": "3.13.5"
  }
 },
 "nbformat": 4,
 "nbformat_minor": 5
}
