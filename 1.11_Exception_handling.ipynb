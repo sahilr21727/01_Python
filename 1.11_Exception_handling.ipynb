{
 "cells": [
  {
   "cell_type": "markdown",
   "id": "35657fe6",
   "metadata": {},
   "source": [
    "# Exception Handling in Python\n",
    "\n",
    "Exception handling in Python allows programs to respond gracefully to unexpected conditions (errors) during execution, preventing crashes and enabling controlled recovery.\n",
    "\n",
    "## What is an Exception?\n",
    "\n",
    "An **exception** is an event that occurs during program execution, indicating an error that disrupts normal flow. It can be caught and handled using specific syntax.\n",
    "\n",
    "> 🔹 Note: All **runtime errors** in Python are raised as **exceptions**.\n",
    "\n",
    "## Basic Syntax\n",
    "\n",
    "```python\n",
    "try:\n",
    "    # Code that might raise an exception\n",
    "except SomeException:\n",
    "    # Handle the exception\n",
    "else:\n",
    "    # Executes if no exception occurred\n",
    "finally:\n",
    "    # Executes no matter what (optional)\n"
   ]
  },
  {
   "cell_type": "code",
   "execution_count": 2,
   "id": "b016cd6e",
   "metadata": {},
   "outputs": [
    {
     "ename": "ValueError",
     "evalue": "invalid literal for int() with base 10: 'a'",
     "output_type": "error",
     "traceback": [
      "\u001b[31m---------------------------------------------------------------------------\u001b[39m",
      "\u001b[31mValueError\u001b[39m                                Traceback (most recent call last)",
      "\u001b[36mCell\u001b[39m\u001b[36m \u001b[39m\u001b[32mIn[2]\u001b[39m\u001b[32m, line 1\u001b[39m\n\u001b[32m----> \u001b[39m\u001b[32m1\u001b[39m num = \u001b[38;5;28mint\u001b[39m(\u001b[38;5;28minput\u001b[39m(\u001b[33m\"\u001b[39m\u001b[33mEnter a number: \u001b[39m\u001b[33m\"\u001b[39m))\n",
      "\u001b[31mValueError\u001b[39m: invalid literal for int() with base 10: 'a'"
     ]
    }
   ],
   "source": [
    "num = int(input(\"Enter a number: \"))\n",
    "  "
   ]
  },
  {
   "cell_type": "code",
   "execution_count": 4,
   "id": "2a00314c",
   "metadata": {},
   "outputs": [
    {
     "name": "stdout",
     "output_type": "stream",
     "text": [
      "You entered: 1\n"
     ]
    }
   ],
   "source": [
    "try:\n",
    "    num = int(input(\"Enter a number: \"))\n",
    "    print(f\"You entered: {num}\")\n",
    "except ValueError:\n",
    "    print(\"That is not a valid number. Please enter digits only.\")\n"
   ]
  },
  {
   "cell_type": "code",
   "execution_count": 5,
   "id": "52ffc971",
   "metadata": {},
   "outputs": [
    {
     "name": "stdout",
     "output_type": "stream",
     "text": [
      "That is not a valid number. Please enter digits only.\n"
     ]
    }
   ],
   "source": [
    "try:\n",
    "    num = int(input(\"Enter a number: \"))\n",
    "except ValueError:\n",
    "    print(\"That is not a valid number. Please enter digits only.\")\n",
    "else:\n",
    "    print(f\"Great! You entered the number: {num}\")\n"
   ]
  },
  {
   "cell_type": "code",
   "execution_count": 6,
   "id": "4f0ca59c",
   "metadata": {},
   "outputs": [
    {
     "name": "stdout",
     "output_type": "stream",
     "text": [
      "That is not a valid number. Please enter digits only.\n",
      "Execution finished — this runs no matter what.\n"
     ]
    }
   ],
   "source": [
    "try:\n",
    "    num = int(input(\"Enter a number: \"))\n",
    "except ValueError:\n",
    "    print(\"That is not a valid number. Please enter digits only.\")\n",
    "else:\n",
    "    print(f\"Great! You entered the number: {num}\")\n",
    "finally:\n",
    "    print(\"Execution finished — this runs no matter what.\")\n"
   ]
  }
 ],
 "metadata": {
  "kernelspec": {
   "display_name": "Python 3",
   "language": "python",
   "name": "python3"
  },
  "language_info": {
   "codemirror_mode": {
    "name": "ipython",
    "version": 3
   },
   "file_extension": ".py",
   "mimetype": "text/x-python",
   "name": "python",
   "nbconvert_exporter": "python",
   "pygments_lexer": "ipython3",
   "version": "3.13.5"
  }
 },
 "nbformat": 4,
 "nbformat_minor": 5
}
