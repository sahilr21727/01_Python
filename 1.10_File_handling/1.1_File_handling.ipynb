{
 "cells": [
  {
   "cell_type": "markdown",
   "id": "b46240fa",
   "metadata": {},
   "source": [
    "# File Handling in Python\n",
    "\n",
    "File handling allows performing operations such as creating, opening, reading, writing, and closing files.\n",
    "\n",
    "## 📌 Importance\n",
    "- Data persists beyond program execution  \n",
    "- Enables access to external data (.txt, .csv, .json)  \n",
    "- Efficient processing of large files  \n",
    "\n",
    "\n",
    "\n",
    "## ⚙️ File Modes\n",
    "\n",
    "| Mode | Purpose                                 | Creates file? |\n",
    "|------|-----------------------------------------|----------------|\n",
    "| `r`  | Read (default); error if file is missing| No             |\n",
    "| `w`  | Write (overwrites); clears existing file| Yes            |\n",
    "| `a`  | Append to end of file                   | Yes            |\n",
    "| `x`  | Create new file; error if file exists   | Yes            |\n",
    "| `b`  | Binary mode (used with r/w/a/x)         | —              |\n",
    "| `t`  | Text mode (default)                     | —              |\n",
    "\n",
    "📎 *Modes can be combined, e.g., `'rb'` for reading in binary.*\n"
   ]
  },
  {
   "cell_type": "code",
   "execution_count": 1,
   "id": "4d224fa0",
   "metadata": {},
   "outputs": [],
   "source": [
    "# Writing to a file\n",
    "with open('example.txt', 'w') as file:\n",
    "    file.write('Hello, world!\\n')\n",
    "    file.write('This is file handling in Python.\\n')"
   ]
  },
  {
   "cell_type": "code",
   "execution_count": 2,
   "id": "ddfd7a29",
   "metadata": {},
   "outputs": [
    {
     "name": "stdout",
     "output_type": "stream",
     "text": [
      "Hello, world!\n",
      "This is file handling in Python.\n"
     ]
    }
   ],
   "source": [
    "# Reading from the file\n",
    "with open('example.txt', 'r') as file:\n",
    "    for line in file:\n",
    "        print(line.strip())"
   ]
  },
  {
   "cell_type": "code",
   "execution_count": 4,
   "id": "688f6ff7",
   "metadata": {},
   "outputs": [
    {
     "name": "stdout",
     "output_type": "stream",
     "text": [
      "This is New York\n",
      "This is Paris\n",
      "This is London\n",
      "Today in Multan\n",
      "Tomorrow in Karachi\n",
      "\n"
     ]
    }
   ],
   "source": [
    "# initial content (overwrite or create)\n",
    "with open('cities.txt', 'w') as f:\n",
    "    f.write('This is New York\\n')\n",
    "    f.write('This is Paris\\n')\n",
    "    f.write('This is London\\n')\n",
    "\n",
    "# append mode: add more lines without removing existing ones\n",
    "with open('cities.txt', 'a') as f:\n",
    "    f.write('Today in Multan\\n')  # written on the next line\n",
    "    f.write('Tomorrow in Karachi\\n')\n",
    "\n",
    "# read the file back to verify\n",
    "with open('cities.txt', 'r') as f:\n",
    "    print(f.read())\n"
   ]
  }
 ],
 "metadata": {
  "kernelspec": {
   "display_name": "Python 3",
   "language": "python",
   "name": "python3"
  },
  "language_info": {
   "codemirror_mode": {
    "name": "ipython",
    "version": 3
   },
   "file_extension": ".py",
   "mimetype": "text/x-python",
   "name": "python",
   "nbconvert_exporter": "python",
   "pygments_lexer": "ipython3",
   "version": "3.13.5"
  }
 },
 "nbformat": 4,
 "nbformat_minor": 5
}
