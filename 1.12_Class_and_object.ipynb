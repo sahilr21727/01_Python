{
 "cells": [
  {
   "cell_type": "markdown",
   "id": "879d45f9",
   "metadata": {},
   "source": [
    "## 🧠 Python Classes and Objects – Theory\n",
    "### 🔹 Class\n",
    "A **class** is a blueprint or template for creating objects. It defines the structure (attributes/instance variable) and behavior (methods) that the objects will have.\n",
    "\n",
    "### 🔹 Object\n",
    "An **object** is an instance of a class. It is a concrete entity based on the class blueprint, with actual values assigned to its attributes.\n",
    "\n",
    "### 🔹 `__init__` Method\n",
    "This is a special method in Python called a **constructor**. It automatically runs when a new object is created from a class and is used to initialize the object's attributes.\n",
    "\n",
    "### 🔹 `self` Keyword\n",
    "`self` refers to the current instance of the class. It is used to access variables and methods within the class.\n",
    "\n",
    "### 🔹 Summary\n",
    "- A **class** defines **what an object should be**.\n",
    "- An **object** is a **real version** of that definition.\n",
    "- `__init__` sets up the object when created.\n",
    "- `self` connects data to the object instance."
   ]
  },
  {
   "cell_type": "code",
   "execution_count": 1,
   "id": "3121a699",
   "metadata": {},
   "outputs": [],
   "source": [
    "class Dog:\n",
    "    def __init__(self, name, breed):\n",
    "        self.name = name  # attribute\n",
    "        self.breed = breed  # attribute\n",
    "\n",
    "    def bark(self):  # method\n",
    "        print(f\"{self.name} says woof!\")\n"
   ]
  },
  {
   "cell_type": "code",
   "execution_count": 2,
   "id": "751e9492",
   "metadata": {},
   "outputs": [
    {
     "name": "stdout",
     "output_type": "stream",
     "text": [
      "Buddy says woof!\n"
     ]
    }
   ],
   "source": [
    "my_dog = Dog(\"Buddy\", \"Golden Retriever\")  # Object of class Dog\n",
    "my_dog.bark()  # Output: Buddy says woof!\n"
   ]
  },
  {
   "cell_type": "code",
   "execution_count": 1,
   "id": "e9dae017",
   "metadata": {},
   "outputs": [
    {
     "name": "stdout",
     "output_type": "stream",
     "text": [
      "Buddy says woof!\n",
      "Buddy is a Golden Retriever.\n"
     ]
    }
   ],
   "source": [
    "class Dog:\n",
    "    def __init__(self, name, breed):\n",
    "        self.name = name   # attribute\n",
    "        self.breed = breed # attribute\n",
    "\n",
    "    def bark(self):  # First method\n",
    "        print(f\"{self.name} says woof!\")\n",
    "\n",
    "    def describe_breed(self):  # Second method using the second self variable\n",
    "        print(f\"{self.name} is a {self.breed}.\")\n",
    "\n",
    "# Create an object of class Dog\n",
    "my_dog = Dog(\"Buddy\", \"Golden Retriever\")\n",
    "\n",
    "# Call both methods\n",
    "my_dog.bark()             # Output: Buddy says woof!\n",
    "my_dog.describe_breed()   # Output: Buddy is a Golden Retriever.\n"
   ]
  }
 ],
 "metadata": {
  "kernelspec": {
   "display_name": "Python 3",
   "language": "python",
   "name": "python3"
  },
  "language_info": {
   "codemirror_mode": {
    "name": "ipython",
    "version": 3
   },
   "file_extension": ".py",
   "mimetype": "text/x-python",
   "name": "python",
   "nbconvert_exporter": "python",
   "pygments_lexer": "ipython3",
   "version": "3.13.5"
  }
 },
 "nbformat": 4,
 "nbformat_minor": 5
}
