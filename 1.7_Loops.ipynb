{
 "cells": [
  {
   "cell_type": "markdown",
   "id": "23e7b32e",
   "metadata": {},
   "source": [
    "## 🔁 for Loop in Python\n",
    "\n",
    "- Used to iterate over sequences like lists, tuples, strings, or ranges.\n",
    "- Executes a block of code for each item in the sequence.\n",
    "- Commonly used for traversing, processing data, or repeating actions.\n"
   ]
  },
  {
   "cell_type": "code",
   "execution_count": null,
   "id": "21c093fb",
   "metadata": {},
   "outputs": [],
   "source": [
    "# For Loop Example\n",
    "\n",
    "# Example 1: Numerical data\n",
    "# Iterate through a range of numbers and print each number\n",
    "for i in range(1, 6):\n",
    "    print(i)\n",
    "\n",
    "# Example 2: DNA sequence data\n",
    "# List of nucleotides\n",
    "nucleotides = ['A', 'T', 'C', 'G', 'A']\n",
    "\n",
    "# Iterate through the list of nucleotides and print each one\n",
    "for i in nucleotides:\n",
    "    print(i)\n"
   ]
  },
  {
   "cell_type": "code",
   "execution_count": null,
   "id": "8cf69bc1",
   "metadata": {},
   "outputs": [],
   "source": [
    "# While Loop Example\n",
    "\n",
    "# Example 1: Numerical data\n",
    "# Start from 1 and print numbers until 5\n",
    "i = 1\n",
    "while i <= 5:\n",
    "    print(i)\n",
    "    i += 1\n",
    "\n",
    "# Example 2: DNA sequence data\n",
    "# List of nucleotides\n",
    "nucleotides = ['A', 'T', 'C', 'G', 'A']\n",
    "i = 0\n",
    "\n",
    "# Iterate through the nucleotides list using a while loop and print each nucleotide\n",
    "while i < len(nucleotides):\n",
    "    print(nucleotides[i])\n",
    "    i += 1\n"
   ]
  }
 ],
 "metadata": {
  "kernelspec": {
   "display_name": "Python 3",
   "language": "python",
   "name": "python3"
  },
  "language_info": {
   "codemirror_mode": {
    "name": "ipython",
    "version": 3
   },
   "file_extension": ".py",
   "mimetype": "text/x-python",
   "name": "python",
   "nbconvert_exporter": "python",
   "pygments_lexer": "ipython3",
   "version": "3.13.5"
  }
 },
 "nbformat": 4,
 "nbformat_minor": 5
}
