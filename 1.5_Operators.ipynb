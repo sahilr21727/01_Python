{
 "cells": [
  {
   "cell_type": "markdown",
   "id": "b88ea24a",
   "metadata": {},
   "source": [
    "## ⚙️ Operators in Python\n",
    "\n",
    "- **Arithmetic Operators**: Perform basic math (addition, subtraction, multiplication, etc.).\n",
    "- **Comparison Operators**: Compare values and return Boolean results (equal, not equal, greater than, etc.).\n",
    "- **Logical Operators**: Combine conditional statements (and, or, not).\n",
    "- **Assignment Operators**: Assign values to variables (like =, +=, -=, etc.).\n",
    "- **Bitwise Operators**: Perform operations on binary numbers.\n",
    "- **Membership Operators**: Check presence in a sequence (in, not in).\n",
    "- **Identity Operators**: Compare memory locations (is, is not).\n"
   ]
  },
  {
   "cell_type": "code",
   "execution_count": 1,
   "id": "ec3b1b4d",
   "metadata": {},
   "outputs": [
    {
     "name": "stdout",
     "output_type": "stream",
     "text": [
      "15\n",
      "5\n",
      "50\n",
      "2.0\n",
      "0\n",
      "100000\n",
      "2\n"
     ]
    }
   ],
   "source": [
    "# Arithmetic Operators\n",
    "a = 10\n",
    "b = 5\n",
    "\n",
    "# Addition\n",
    "print(a + b)\n",
    "\n",
    "# Subtraction\n",
    "print(a - b)\n",
    "\n",
    "# Multiplication\n",
    "print(a * b)\n",
    "\n",
    "# Division\n",
    "print(a / b)\n",
    "\n",
    "# Modulus (remainder of division)\n",
    "print(a % b)\n",
    "\n",
    "# Exponentiation (a raised to the power of b)\n",
    "print(a ** b)\n",
    "\n",
    "# Floor Division (division without remainder)\n",
    "print(a // b)\n",
    "\n",
    "\n"
   ]
  },
  {
   "cell_type": "code",
   "execution_count": 2,
   "id": "7604ee4a",
   "metadata": {},
   "outputs": [
    {
     "name": "stdout",
     "output_type": "stream",
     "text": [
      "False\n",
      "True\n",
      "False\n",
      "True\n",
      "False\n",
      "True\n"
     ]
    }
   ],
   "source": [
    "# Comparison Operators\n",
    "x = 15\n",
    "y = 20\n",
    "\n",
    "# Equal to\n",
    "print(x == y)\n",
    "\n",
    "# Not equal to\n",
    "print(x != y)\n",
    "\n",
    "# Greater than\n",
    "print(x > y)\n",
    "\n",
    "# Less than\n",
    "print(x < y)\n",
    "\n",
    "# Greater than or equal to\n",
    "print(x >= y)\n",
    "\n",
    "# Less than or equal to\n",
    "print(x <= y)\n",
    "\n",
    "\n"
   ]
  },
  {
   "cell_type": "code",
   "execution_count": 3,
   "id": "5e8231f8",
   "metadata": {},
   "outputs": [
    {
     "name": "stdout",
     "output_type": "stream",
     "text": [
      "False\n",
      "True\n",
      "False\n"
     ]
    }
   ],
   "source": [
    "# Logical Operators\n",
    "p = True\n",
    "q = False\n",
    "\n",
    "# AND operator\n",
    "print(p and q)\n",
    "\n",
    "# OR operator\n",
    "print(p or q)\n",
    "\n",
    "# NOT operator\n",
    "print(not p)\n"
   ]
  },
  {
   "cell_type": "code",
   "execution_count": 4,
   "id": "989af4dd",
   "metadata": {},
   "outputs": [
    {
     "name": "stdout",
     "output_type": "stream",
     "text": [
      "10\n",
      "15\n",
      "12\n",
      "24\n",
      "6.0\n"
     ]
    }
   ],
   "source": [
    "# Assignment Operators\n",
    "c = 5\n",
    "\n",
    "# Assign value\n",
    "c = 10\n",
    "print(c)\n",
    "\n",
    "# Add and assign\n",
    "c += 5\n",
    "print(c)\n",
    "\n",
    "# Subtract and assign\n",
    "c -= 3\n",
    "print(c)\n",
    "\n",
    "# Multiply and assign\n",
    "c *= 2\n",
    "print(c)\n",
    "\n",
    "# Divide and assign\n",
    "c /= 4\n",
    "print(c)"
   ]
  }
 ],
 "metadata": {
  "kernelspec": {
   "display_name": "Python 3",
   "language": "python",
   "name": "python3"
  },
  "language_info": {
   "codemirror_mode": {
    "name": "ipython",
    "version": 3
   },
   "file_extension": ".py",
   "mimetype": "text/x-python",
   "name": "python",
   "nbconvert_exporter": "python",
   "pygments_lexer": "ipython3",
   "version": "3.13.5"
  }
 },
 "nbformat": 4,
 "nbformat_minor": 5
}
