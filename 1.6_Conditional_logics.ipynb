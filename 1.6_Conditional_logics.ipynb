{
 "cells": [
  {
   "cell_type": "markdown",
   "id": "916c54da",
   "metadata": {},
   "source": [
    "## Conditional logics in Python\n",
    "### By Ali Raza\n",
    "- If\n",
    "- If-else\n",
    "- elif"
   ]
  },
  {
   "cell_type": "markdown",
   "id": "2752737c",
   "metadata": {},
   "source": [
    "## Example for numerical data"
   ]
  },
  {
   "cell_type": "code",
   "execution_count": null,
   "id": "cb494306",
   "metadata": {},
   "outputs": [
    {
     "name": "stdout",
     "output_type": "stream",
     "text": [
      "The number is positive.\n",
      "The number is negative.\n",
      "The number is zero.\n"
     ]
    }
   ],
   "source": [
    "\n",
    "\n",
    "# Input number\n",
    "num = 5  # Change this value to test different cases\n",
    "\n",
    "# Using `if` statement\n",
    "if num > 0:\n",
    "    print(\"The number is positive.\")\n",
    "\n",
    "# Using `if else` statement\n",
    "num = -3  # Change this value to test\n",
    "if num > 0:\n",
    "    print(\"The number is positive.\")\n",
    "else:\n",
    "    print(\"The number is negative.\")\n",
    "\n",
    "# Using `elif` statement\n",
    "num = 0  # Change this value to test\n",
    "if num > 0:\n",
    "    print(\"The number is positive.\")\n",
    "elif num < 0:\n",
    "    print(\"The number is negative.\")\n",
    "else:\n",
    "    print(\"The number is zero.\")\n"
   ]
  },
  {
   "cell_type": "markdown",
   "id": "12c71b13",
   "metadata": {},
   "source": [
    "## Example for DNA sequences"
   ]
  },
  {
   "cell_type": "code",
   "execution_count": 3,
   "id": "a64acbf3",
   "metadata": {},
   "outputs": [
    {
     "name": "stdout",
     "output_type": "stream",
     "text": [
      "It's Adenine.\n",
      "It's not Adenine.\n",
      "It's Cytosine.\n"
     ]
    }
   ],
   "source": [
    "# DNA Sequence Data Example\n",
    "\n",
    "# Input nucleotide\n",
    "nucleotide = 'A'  # Change this value to test different cases\n",
    "\n",
    "# Using `if` statement\n",
    "if nucleotide == 'A':\n",
    "    print(\"It's Adenine.\")\n",
    "\n",
    "# Using `if else` statement\n",
    "nucleotide = 'G'  # Change this value to test\n",
    "if nucleotide == 'A':\n",
    "    print(\"It's Adenine.\")\n",
    "else:\n",
    "    print(\"It's not Adenine.\")\n",
    "\n",
    "# Using `elif` statement\n",
    "nucleotide = 'C'  # Change this value to test\n",
    "if nucleotide == 'A':\n",
    "    print(\"It's Adenine.\")\n",
    "elif nucleotide == 'T':\n",
    "    print(\"It's Thymine.\")\n",
    "elif nucleotide == 'C':\n",
    "    print(\"It's Cytosine.\")\n",
    "elif nucleotide == 'G':\n",
    "    print(\"It's Guanine.\")\n",
    "else:\n",
    "    print(\"Invalid nucleotide.\")\n"
   ]
  },
  {
   "cell_type": "markdown",
   "id": "e0b2f4db",
   "metadata": {},
   "source": [
    "## Another example"
   ]
  },
  {
   "cell_type": "code",
   "execution_count": 4,
   "id": "be3afd84",
   "metadata": {},
   "outputs": [
    {
     "name": "stdout",
     "output_type": "stream",
     "text": [
      "1996 is a leap year.\n"
     ]
    }
   ],
   "source": [
    "## Nested if-else\n",
    "year = int(input(\"Enter the year:\"))\n",
    "if year%4==0:\n",
    "    if year%100==0:\n",
    "        if year%400==0:\n",
    "            print(f\"The {year} is a leap year.\")\n",
    "        else:\n",
    "            print(f\"The {year} is not a leap year.\")\n",
    "        print(f'The {year} is a leap year.')\n",
    "    print(f\"{year} is a leap year.\")\n",
    "else:\n",
    "    print(f\"{year}  is not a leap year.\")"
   ]
  }
 ],
 "metadata": {
  "kernelspec": {
   "display_name": "Python 3",
   "language": "python",
   "name": "python3"
  },
  "language_info": {
   "codemirror_mode": {
    "name": "ipython",
    "version": 3
   },
   "file_extension": ".py",
   "mimetype": "text/x-python",
   "name": "python",
   "nbconvert_exporter": "python",
   "pygments_lexer": "ipython3",
   "version": "3.13.5"
  }
 },
 "nbformat": 4,
 "nbformat_minor": 5
}
